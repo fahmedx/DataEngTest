{
 "cells": [
  {
   "cell_type": "code",
   "execution_count": 105,
   "metadata": {},
   "outputs": [],
   "source": [
    "import matplotlib as plt\n",
    "import csv\n",
    "from statistics import pvariance\n",
    "import findspark\n",
    "findspark.init()\n",
    "\n",
    "import pyspark \n",
    "from pyspark.sql import SparkSession\n",
    "from pyspark.sql.types import FloatType\n",
    "from pyspark.sql.functions import to_date, mean, col, lit, concat, unix_timestamp, month, year, regexp_replace, round, max, min, udf, concat_ws\n",
    "spark = SparkSession.builder.getOrCreate()"
   ]
  },
  {
   "cell_type": "code",
   "execution_count": 106,
   "metadata": {},
   "outputs": [
    {
     "data": {
      "text/plain": [
       "Row(DATA INICIAL='30/12/2018', DATA FINAL='5/1/2019', REGIÃO='NORTE', ESTADO='PARA', MUNICÍPIO='ABAETETUBA', PRODUTO='ETANOL HIDRATADO', NÚMERO DE POSTOS PESQUISADOS=1, UNIDADE DE MEDIDA='R$/l', PREÇO MÉDIO REVENDA=4.650000095367432, DESVIO PADRÃO REVENDA='0,000', PREÇO MÍNIMO REVENDA=4.650000095367432, PREÇO MÁXIMO REVENDA=4.650000095367432, MARGEM MÉDIA REVENDA='-', COEF DE VARIAÇÃO REVENDA='0,000', PREÇO MÉDIO DISTRIBUIÇÃO='-', DESVIO PADRÃO DISTRIBUIÇÃO='-', PREÇO MÍNIMO DISTRIBUIÇÃO='-', PREÇO MÁXIMO DISTRIBUIÇÃO='-', COEF DE VARIAÇÃO DISTRIBUIÇÃO='-')"
      ]
     },
     "execution_count": 106,
     "metadata": {},
     "output_type": "execute_result"
    }
   ],
   "source": [
    "df =  spark.read.csv(\n",
    "      path=\"SEMANAL_MUNICIPIOS-2019.csv\",\n",
    "      sep=\",\",\n",
    "      header=True,\n",
    "      quote='\"',\n",
    "      inferSchema=True\n",
    ")\n",
    "df = df.withColumn('PREÇO MÉDIO REVENDA', regexp_replace('PREÇO MÉDIO REVENDA', ',', '.').cast('float'))\n",
    "df = df.withColumn('PREÇO MÁXIMO REVENDA', regexp_replace('PREÇO MÁXIMO REVENDA', ',', '.').cast('float'))\n",
    "df = df.withColumn('PREÇO MÍNIMO REVENDA', regexp_replace('PREÇO MÍNIMO REVENDA', ',', '.').cast('float'))\n",
    "df.head()"
   ]
  },
  {
   "cell_type": "code",
   "execution_count": 107,
   "metadata": {},
   "outputs": [],
   "source": [
    "spark.sql(\"set spark.sql.legacy.timeParserPolicy=LEGACY\")\n",
    "df = df.orderBy('DATA INICIAL')"
   ]
  },
  {
   "cell_type": "code",
   "execution_count": 108,
   "metadata": {},
   "outputs": [
    {
     "data": {
      "text/plain": [
       "DataFrame[summary: string, DATA FINAL: string, REGIÃO: string, ESTADO: string, MUNICÍPIO: string, PRODUTO: string, NÚMERO DE POSTOS PESQUISADOS: string, UNIDADE DE MEDIDA: string, PREÇO MÉDIO REVENDA: string, DESVIO PADRÃO REVENDA: string, PREÇO MÍNIMO REVENDA: string, PREÇO MÁXIMO REVENDA: string, MARGEM MÉDIA REVENDA: string, COEF DE VARIAÇÃO REVENDA: string, PREÇO MÉDIO DISTRIBUIÇÃO: string, DESVIO PADRÃO DISTRIBUIÇÃO: string, PREÇO MÍNIMO DISTRIBUIÇÃO: string, PREÇO MÁXIMO DISTRIBUIÇÃO: string, COEF DE VARIAÇÃO DISTRIBUIÇÃO: string, Mês: string, Ano: string]"
      ]
     },
     "execution_count": 108,
     "metadata": {},
     "output_type": "execute_result"
    }
   ],
   "source": [
    "df = (df.withColumn('DATA INICIAL', to_date(unix_timestamp('DATA INICIAL', 'dd/MM/yyyy').cast('timestamp'))))\n",
    "df = (df.withColumn('Mês', month('DATA INICIAL')))\n",
    "df = (df.withColumn('Ano', year('DATA INICIAL')))\n",
    "df.describe()"
   ]
  },
  {
   "cell_type": "code",
   "execution_count": 109,
   "metadata": {
    "scrolled": true
   },
   "outputs": [
    {
     "name": "stdout",
     "output_type": "stream",
     "text": [
      "+----+---+--------------------+----------------+-----------------+-----------+\n",
      "| Ano|Mês|           Município|         Produto|Unidade de Medida|Preço médio|\n",
      "+----+---+--------------------+----------------+-----------------+-----------+\n",
      "|2018| 12|          ABAETETUBA|ETANOL HIDRATADO|             R$/l|       4.65|\n",
      "|2018| 12|          ABAETETUBA|  GASOLINA COMUM|             R$/l|      4.955|\n",
      "|2018| 12|          ABAETETUBA|             GLP|          R$/13Kg|     70.667|\n",
      "|2018| 12|          ABAETETUBA|     ÓLEO DIESEL|             R$/l|      4.088|\n",
      "|2018| 12|          ABAETETUBA| ÓLEO DIESEL S10|             R$/l|       4.12|\n",
      "|2018| 12|          ACAILANDIA|ETANOL HIDRATADO|             R$/l|      3.524|\n",
      "|2018| 12|          ACAILANDIA|  GASOLINA COMUM|             R$/l|      4.189|\n",
      "|2018| 12|          ACAILANDIA|             GLP|          R$/13Kg|       74.0|\n",
      "|2018| 12|          ACAILANDIA|     ÓLEO DIESEL|             R$/l|      3.538|\n",
      "|2018| 12|          ACAILANDIA| ÓLEO DIESEL S10|             R$/l|      3.601|\n",
      "|2018| 12|          ADAMANTINA|ETANOL HIDRATADO|             R$/l|      2.599|\n",
      "|2018| 12|          ADAMANTINA|  GASOLINA COMUM|             R$/l|      4.132|\n",
      "|2018| 12|          ADAMANTINA|             GLP|          R$/13Kg|      68.95|\n",
      "|2018| 12|          ADAMANTINA|     ÓLEO DIESEL|             R$/l|      3.302|\n",
      "|2018| 12|          ADAMANTINA| ÓLEO DIESEL S10|             R$/l|      3.454|\n",
      "|2018| 12|AGUAS LINDAS DE G...|ETANOL HIDRATADO|             R$/l|      3.031|\n",
      "|2018| 12|AGUAS LINDAS DE G...|  GASOLINA COMUM|             R$/l|      4.531|\n",
      "|2018| 12|AGUAS LINDAS DE G...|             GLP|          R$/13Kg|      60.75|\n",
      "|2018| 12|AGUAS LINDAS DE G...|     ÓLEO DIESEL|             R$/l|      3.764|\n",
      "|2018| 12|AGUAS LINDAS DE G...| ÓLEO DIESEL S10|             R$/l|      3.841|\n",
      "+----+---+--------------------+----------------+-----------------+-----------+\n",
      "only showing top 20 rows\n",
      "\n"
     ]
    }
   ],
   "source": [
    "df = df.orderBy(\"Ano\", \"Mês\", \"Município\", \"Produto\")\n",
    "exe1 = (df.groupBy(\"Ano\",\"Mês\",\"Município\",\"Produto\",\"Unidade de Medida\").agg(round(mean(\"PREÇO MÉDIO REVENDA\"),3).alias(\"Preço médio\")))\n",
    "exe1.show()"
   ]
  },
  {
   "cell_type": "code",
   "execution_count": 110,
   "metadata": {
    "scrolled": true
   },
   "outputs": [
    {
     "name": "stdout",
     "output_type": "stream",
     "text": [
      "+-------------------+------------+-----------+\n",
      "|             Estado|      Região|Preço médio|\n",
      "+-------------------+------------+-----------+\n",
      "|               ACRE|       NORTE|     19.451|\n",
      "|            ALAGOAS|    NORDESTE|     15.369|\n",
      "|              AMAPA|       NORTE|     21.808|\n",
      "|           AMAZONAS|       NORTE|     20.866|\n",
      "|              BAHIA|    NORDESTE|     15.238|\n",
      "|              CEARA|    NORDESTE|     17.457|\n",
      "|   DISTRITO FEDERAL|CENTRO OESTE|     17.239|\n",
      "|     ESPIRITO SANTO|     SUDESTE|     14.959|\n",
      "|              GOIAS|CENTRO OESTE|     17.045|\n",
      "|           MARANHAO|    NORDESTE|     18.291|\n",
      "|        MATO GROSSO|CENTRO OESTE|     22.364|\n",
      "| MATO GROSSO DO SUL|CENTRO OESTE|     17.522|\n",
      "|       MINAS GERAIS|     SUDESTE|     16.962|\n",
      "|               PARA|       NORTE|     20.842|\n",
      "|            PARAIBA|    NORDESTE|     15.817|\n",
      "|             PARANA|         SUL|     16.837|\n",
      "|         PERNAMBUCO|    NORDESTE|     17.882|\n",
      "|              PIAUI|    NORDESTE|      18.08|\n",
      "|     RIO DE JANEIRO|     SUDESTE|     14.633|\n",
      "|RIO GRANDE DO NORTE|    NORDESTE|     15.164|\n",
      "+-------------------+------------+-----------+\n",
      "only showing top 20 rows\n",
      "\n"
     ]
    }
   ],
   "source": [
    "df = df.orderBy(\"Estado\",\"Região\")\n",
    "exe2 =(df.groupBy(\"Estado\",\"Região\",).agg(round(mean(\"PREÇO MÉDIO REVENDA\"),3).alias(\"Preço médio\")))\n",
    "exe2.show()"
   ]
  },
  {
   "cell_type": "code",
   "execution_count": 111,
   "metadata": {},
   "outputs": [
    {
     "name": "stdout",
     "output_type": "stream",
     "text": [
      "+----+---+--------------------+----------+-----------------+\n",
      "| Ano|Mês|           Município| Variância|Variação Absoluta|\n",
      "+----+---+--------------------+----------+-----------------+\n",
      "|2018| 12|          ABAETETUBA| 1108.1908|           66.579|\n",
      "|2018| 12|          ACAILANDIA| 1241.7167|           70.476|\n",
      "|2018| 12|          ADAMANTINA| 1100.6138|           66.351|\n",
      "|2018| 12|AGUAS LINDAS DE G...|  832.8707|           57.719|\n",
      "|2018| 12|          ALAGOINHAS|   974.907|           62.447|\n",
      "|2018| 12|            ALEGRETE| 1213.3031|           69.665|\n",
      "|2018| 12|             ALFENAS|  994.0463|           63.057|\n",
      "|2018| 12|       ALTA FLORESTA| 2654.2073|          103.038|\n",
      "|2018| 12|            ALTAMIRA| 1919.2723|           87.619|\n",
      "|2018| 12|            ALVORADA| 1067.7537|           65.353|\n",
      "|2018| 12|           AMERICANA|   986.117|           62.805|\n",
      "|2018| 12|              AMPARO| 1209.6136|           69.559|\n",
      "|2018| 12|          ANANINDEUA| 1228.0469|           70.087|\n",
      "|2018| 12|            ANAPOLIS| 1251.3198|           70.748|\n",
      "|2018| 12|      ANGRA DOS REIS| 1141.1222|           67.561|\n",
      "|2018| 12|APARECIDA DE GOIANIA|  1197.506|            69.21|\n",
      "|2018| 12|           APUCARANA| 1010.6041|            63.58|\n",
      "|2018| 12|             ARACAJU| 1141.2235|           67.564|\n",
      "|2018| 12|           ARACATUBA|1003.21063|           63.347|\n",
      "|2018| 12|             ARACRUZ| 841.60913|           58.021|\n",
      "+----+---+--------------------+----------+-----------------+\n",
      "only showing top 20 rows\n",
      "\n"
     ]
    }
   ],
   "source": [
    "def calculate(row):\n",
    "    data = [float(x.strip()) for x in row.split(\",\")]\n",
    "    return pvariance(data)\n",
    "\n",
    "df = df.orderBy(\"Ano\",\"Mês\")\n",
    "t_exe3= df.groupBy(\"Ano\",\"Mês\",\"Município\").agg(max(round(col(\"PREÇO MÉDIO REVENDA\"),3)).alias(\"Preço Máximo\"),min(round(col(\"PREÇO MÉDIO REVENDA\"),3)).alias(\"Preço Mínimo\"))\n",
    "\n",
    "varUDF = udf(calculate,FloatType())\n",
    "t_exe3 = t_exe3.withColumn(\"Variância\",varUDF(concat_ws(\",\", round(col(\"Preço máximo\"),3), round(col(\"Preço Mínimo\"),3))))\n",
    "t_exe3 = t_exe3.withColumn(\"Variação Absoluta\", round(( t_exe3[\"Preço máximo\"] - t_exe3[\"Preço Mínimo\"] ),3))\n",
    "columns_to_drop = ['Preço máximo', 'Preço Mínimo']\n",
    "exe3 = t_exe3.drop(*columns_to_drop)\n",
    "exe3.show()"
   ]
  },
  {
   "cell_type": "code",
   "execution_count": 112,
   "metadata": {},
   "outputs": [
    {
     "name": "stdout",
     "output_type": "stream",
     "text": [
      "+-------------+---------+\n",
      "|    Município|Resultado|\n",
      "+-------------+---------+\n",
      "|      SORRISO|   117.46|\n",
      "|       CUIABA|  112.883|\n",
      "|        SINOP|  107.611|\n",
      "| RONDONOPOLIS|  107.601|\n",
      "|ALTA FLORESTA|   107.34|\n",
      "+-------------+---------+\n",
      "\n"
     ]
    }
   ],
   "source": [
    "t_exe4 = df.groupBy(\"Município\").agg(max(round(col(\"PREÇO MÁXIMO REVENDA\"),3)).alias(\"Preço máximo\"),min(round(col(\"PREÇO MÍNIMO REVENDA\"),3)).alias(\"Preço Mínimo\"))\n",
    "t_exe4 = t_exe4.withColumn(\"Resultado\", round(( t_exe4[\"Preço máximo\"] - t_exe4[\"Preço Mínimo\"] ),3))\n",
    "exe4   = (t_exe4.orderBy(col(\"Resultado\")).sort(col(\"Resultado\").desc()).limit(5))\n",
    "columns_to_drop = ['Preço máximo', 'Preço Mínimo']\n",
    "exe4 = exe4.drop(*columns_to_drop)\n",
    "exe4.show()"
   ]
  },
  {
   "cell_type": "code",
   "execution_count": 113,
   "metadata": {},
   "outputs": [],
   "source": [
    "exe1.toPandas().to_csv('exe1.csv')\n",
    "exe2.toPandas().to_csv('exe2.csv')\n",
    "exe3.toPandas().to_csv('exe3.csv')\n",
    "exe4.toPandas().to_csv('exe4.csv')"
   ]
  },
  {
   "cell_type": "code",
   "execution_count": null,
   "metadata": {},
   "outputs": [],
   "source": []
  },
  {
   "cell_type": "code",
   "execution_count": null,
   "metadata": {},
   "outputs": [],
   "source": []
  }
 ],
 "metadata": {
  "kernelspec": {
   "display_name": "Python 3",
   "language": "python",
   "name": "python3"
  },
  "language_info": {
   "codemirror_mode": {
    "name": "ipython",
    "version": 3
   },
   "file_extension": ".py",
   "mimetype": "text/x-python",
   "name": "python",
   "nbconvert_exporter": "python",
   "pygments_lexer": "ipython3",
   "version": "3.8.3"
  }
 },
 "nbformat": 4,
 "nbformat_minor": 4
}
