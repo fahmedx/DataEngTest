{
 "cells": [
  {
   "cell_type": "code",
   "execution_count": 322,
   "metadata": {},
   "outputs": [],
   "source": [
    "import matplotlib as plt\n",
    "import findspark\n",
    "findspark.init()\n",
    "\n",
    "import pyspark \n",
    "from pyspark.sql import SparkSession\n",
    "from pyspark.sql.types import FloatType\n",
    "from pyspark.sql.functions import to_date, mean, col, lit, concat, unix_timestamp, month, year, regexp_replace, round\n",
    "spark = SparkSession.builder.getOrCreate()"
   ]
  },
  {
   "cell_type": "code",
   "execution_count": 323,
   "metadata": {},
   "outputs": [
    {
     "name": "stdout",
     "output_type": "stream",
     "text": [
      "root\n",
      " |-- DATA INICIAL: string (nullable = true)\n",
      " |-- DATA FINAL: string (nullable = true)\n",
      " |-- REGIÃO: string (nullable = true)\n",
      " |-- ESTADO: string (nullable = true)\n",
      " |-- MUNICÍPIO: string (nullable = true)\n",
      " |-- PRODUTO: string (nullable = true)\n",
      " |-- NÚMERO DE POSTOS PESQUISADOS: integer (nullable = true)\n",
      " |-- UNIDADE DE MEDIDA: string (nullable = true)\n",
      " |-- PREÇO MÉDIO REVENDA: float (nullable = true)\n",
      " |-- DESVIO PADRÃO REVENDA: string (nullable = true)\n",
      " |-- PREÇO MÍNIMO REVENDA: string (nullable = true)\n",
      " |-- PREÇO MÁXIMO REVENDA: string (nullable = true)\n",
      " |-- MARGEM MÉDIA REVENDA: string (nullable = true)\n",
      " |-- COEF DE VARIAÇÃO REVENDA: string (nullable = true)\n",
      " |-- PREÇO MÉDIO DISTRIBUIÇÃO: string (nullable = true)\n",
      " |-- DESVIO PADRÃO DISTRIBUIÇÃO: string (nullable = true)\n",
      " |-- PREÇO MÍNIMO DISTRIBUIÇÃO: string (nullable = true)\n",
      " |-- PREÇO MÁXIMO DISTRIBUIÇÃO: string (nullable = true)\n",
      " |-- COEF DE VARIAÇÃO DISTRIBUIÇÃO: string (nullable = true)\n",
      "\n"
     ]
    }
   ],
   "source": [
    "df =  spark.read.csv(\n",
    "      path=\"SEMANAL_MUNICIPIOS-2019.csv\",\n",
    "      sep=\",\",\n",
    "      header=True,\n",
    "      quote='\"',\n",
    "      inferSchema=True\n",
    ")\n",
    "df = df.withColumn('PREÇO MÉDIO REVENDA', regexp_replace('PREÇO MÉDIO REVENDA', ',', '.').cast('float'))\n",
    "df.printSchema()"
   ]
  },
  {
   "cell_type": "code",
   "execution_count": 324,
   "metadata": {},
   "outputs": [],
   "source": [
    "spark.sql(\"set spark.sql.legacy.timeParserPolicy=LEGACY\")\n",
    "df = df.orderBy('DATA INICIAL')"
   ]
  },
  {
   "cell_type": "code",
   "execution_count": 325,
   "metadata": {},
   "outputs": [
    {
     "data": {
      "text/plain": [
       "DataFrame[summary: string, DATA FINAL: string, REGIÃO: string, ESTADO: string, MUNICÍPIO: string, PRODUTO: string, NÚMERO DE POSTOS PESQUISADOS: string, UNIDADE DE MEDIDA: string, PREÇO MÉDIO REVENDA: string, DESVIO PADRÃO REVENDA: string, PREÇO MÍNIMO REVENDA: string, PREÇO MÁXIMO REVENDA: string, MARGEM MÉDIA REVENDA: string, COEF DE VARIAÇÃO REVENDA: string, PREÇO MÉDIO DISTRIBUIÇÃO: string, DESVIO PADRÃO DISTRIBUIÇÃO: string, PREÇO MÍNIMO DISTRIBUIÇÃO: string, PREÇO MÁXIMO DISTRIBUIÇÃO: string, COEF DE VARIAÇÃO DISTRIBUIÇÃO: string, Mês: string, Ano: string]"
      ]
     },
     "execution_count": 325,
     "metadata": {},
     "output_type": "execute_result"
    }
   ],
   "source": [
    "df = (df.withColumn('DATA INICIAL', to_date(unix_timestamp('DATA INICIAL', 'dd/MM/yyyy').cast('timestamp'))))\n",
    "df = (df.withColumn('Mês', month('DATA INICIAL')))\n",
    "df = (df.withColumn('Ano', year('DATA INICIAL')))\n",
    "df.describe()"
   ]
  },
  {
   "cell_type": "code",
   "execution_count": 330,
   "metadata": {
    "scrolled": true
   },
   "outputs": [
    {
     "name": "stdout",
     "output_type": "stream",
     "text": [
      "+----+---+--------------------+----------------+-----------------+-----------+\n",
      "| Ano|Mês|           Município|         Produto|Unidade de Medida|Preço médio|\n",
      "+----+---+--------------------+----------------+-----------------+-----------+\n",
      "|2018| 12|          ABAETETUBA|ETANOL HIDRATADO|             R$/l|       4.65|\n",
      "|2018| 12|          ABAETETUBA|  GASOLINA COMUM|             R$/l|      4.955|\n",
      "|2018| 12|          ABAETETUBA|             GLP|          R$/13Kg|     70.667|\n",
      "|2018| 12|          ABAETETUBA|     ÓLEO DIESEL|             R$/l|      4.088|\n",
      "|2018| 12|          ABAETETUBA| ÓLEO DIESEL S10|             R$/l|       4.12|\n",
      "|2018| 12|          ACAILANDIA|ETANOL HIDRATADO|             R$/l|      3.524|\n",
      "|2018| 12|          ACAILANDIA|  GASOLINA COMUM|             R$/l|      4.189|\n",
      "|2018| 12|          ACAILANDIA|             GLP|          R$/13Kg|       74.0|\n",
      "|2018| 12|          ACAILANDIA|     ÓLEO DIESEL|             R$/l|      3.538|\n",
      "|2018| 12|          ACAILANDIA| ÓLEO DIESEL S10|             R$/l|      3.601|\n",
      "|2018| 12|          ADAMANTINA|ETANOL HIDRATADO|             R$/l|      2.599|\n",
      "|2018| 12|          ADAMANTINA|  GASOLINA COMUM|             R$/l|      4.132|\n",
      "|2018| 12|          ADAMANTINA|             GLP|          R$/13Kg|      68.95|\n",
      "|2018| 12|          ADAMANTINA|     ÓLEO DIESEL|             R$/l|      3.302|\n",
      "|2018| 12|          ADAMANTINA| ÓLEO DIESEL S10|             R$/l|      3.454|\n",
      "|2018| 12|AGUAS LINDAS DE G...|ETANOL HIDRATADO|             R$/l|      3.031|\n",
      "|2018| 12|AGUAS LINDAS DE G...|  GASOLINA COMUM|             R$/l|      4.531|\n",
      "|2018| 12|AGUAS LINDAS DE G...|             GLP|          R$/13Kg|      60.75|\n",
      "|2018| 12|AGUAS LINDAS DE G...|     ÓLEO DIESEL|             R$/l|      3.764|\n",
      "|2018| 12|AGUAS LINDAS DE G...| ÓLEO DIESEL S10|             R$/l|      3.841|\n",
      "+----+---+--------------------+----------------+-----------------+-----------+\n",
      "only showing top 20 rows\n",
      "\n"
     ]
    }
   ],
   "source": [
    "df = df.orderBy(\"Ano\", \"Mês\", \"Município\", \"Produto\")\n",
    "exe1 = (df.groupBy(\"Ano\",\"Mês\",\"Município\",\"Produto\",\"Unidade de Medida\").agg(round(mean(\"PREÇO MÉDIO REVENDA\").alias(\"Preço Médio\"),3).alias(\"Preço médio\"))).show()"
   ]
  },
  {
   "cell_type": "code",
   "execution_count": 333,
   "metadata": {
    "scrolled": true
   },
   "outputs": [
    {
     "name": "stdout",
     "output_type": "stream",
     "text": [
      "+-------------------+------------+-----------+\n",
      "|             Estado|      Região|Preço médio|\n",
      "+-------------------+------------+-----------+\n",
      "|               ACRE|       NORTE|     19.451|\n",
      "|            ALAGOAS|    NORDESTE|     15.369|\n",
      "|              AMAPA|       NORTE|     21.808|\n",
      "|           AMAZONAS|       NORTE|     20.866|\n",
      "|              BAHIA|    NORDESTE|     15.238|\n",
      "|              CEARA|    NORDESTE|     17.457|\n",
      "|   DISTRITO FEDERAL|CENTRO OESTE|     17.239|\n",
      "|     ESPIRITO SANTO|     SUDESTE|     14.959|\n",
      "|              GOIAS|CENTRO OESTE|     17.045|\n",
      "|           MARANHAO|    NORDESTE|     18.291|\n",
      "|        MATO GROSSO|CENTRO OESTE|     22.364|\n",
      "| MATO GROSSO DO SUL|CENTRO OESTE|     17.522|\n",
      "|       MINAS GERAIS|     SUDESTE|     16.962|\n",
      "|               PARA|       NORTE|     20.842|\n",
      "|            PARAIBA|    NORDESTE|     15.817|\n",
      "|             PARANA|         SUL|     16.837|\n",
      "|         PERNAMBUCO|    NORDESTE|     17.882|\n",
      "|              PIAUI|    NORDESTE|      18.08|\n",
      "|     RIO DE JANEIRO|     SUDESTE|     14.633|\n",
      "|RIO GRANDE DO NORTE|    NORDESTE|     15.164|\n",
      "+-------------------+------------+-----------+\n",
      "only showing top 20 rows\n",
      "\n"
     ]
    }
   ],
   "source": [
    "df = df.orderBy(\"Estado\",\"Região\")\n",
    "exe2 =(df.groupBy(\"Estado\",\"Região\",).agg(round(mean(\"PREÇO MÉDIO REVENDA\").alias(\"Preço Médio\"),3).alias(\"Preço médio\"))).show()"
   ]
  },
  {
   "cell_type": "code",
   "execution_count": null,
   "metadata": {},
   "outputs": [],
   "source": []
  },
  {
   "cell_type": "code",
   "execution_count": null,
   "metadata": {},
   "outputs": [],
   "source": []
  },
  {
   "cell_type": "code",
   "execution_count": null,
   "metadata": {},
   "outputs": [],
   "source": []
  },
  {
   "cell_type": "code",
   "execution_count": null,
   "metadata": {},
   "outputs": [],
   "source": []
  }
 ],
 "metadata": {
  "kernelspec": {
   "display_name": "Python 3",
   "language": "python",
   "name": "python3"
  },
  "language_info": {
   "codemirror_mode": {
    "name": "ipython",
    "version": 3
   },
   "file_extension": ".py",
   "mimetype": "text/x-python",
   "name": "python",
   "nbconvert_exporter": "python",
   "pygments_lexer": "ipython3",
   "version": "3.8.3"
  }
 },
 "nbformat": 4,
 "nbformat_minor": 4
}
